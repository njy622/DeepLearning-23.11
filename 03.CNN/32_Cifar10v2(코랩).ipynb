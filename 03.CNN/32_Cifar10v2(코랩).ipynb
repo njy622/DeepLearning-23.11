{
  "nbformat": 4,
  "nbformat_minor": 0,
  "metadata": {
    "colab": {
      "provenance": [],
      "gpuType": "T4"
    },
    "kernelspec": {
      "name": "python3",
      "display_name": "Python 3"
    },
    "language_info": {
      "name": "python"
    },
    "accelerator": "GPU"
  },
  "cells": [
    {
      "cell_type": "markdown",
      "source": [
        "## Cifar-10 이미지 분류 - v2\n",
        "- Cifar-10(Canadian Institute for Advanced Research, 100 classes)\n",
        "- 데이터 부풀리기 사용"
      ],
      "metadata": {
        "id": "_yFyhFe26G-K"
      }
    },
    {
      "cell_type": "code",
      "execution_count": 1,
      "metadata": {
        "id": "cOJ4mHWK6DB3"
      },
      "outputs": [],
      "source": [
        "import numpy as np\n",
        "import matplotlib.pyplot as plt\n",
        "import tensorflow as tf\n",
        "seed = 2023\n",
        "np.random.seed(seed)\n",
        "tf.random.set_seed(seed)"
      ]
    },
    {
      "cell_type": "markdown",
      "source": [
        "- 데이터 탐색 및 전처리"
      ],
      "metadata": {
        "id": "R17z-wFu6bLR"
      }
    },
    {
      "cell_type": "code",
      "source": [
        "from tensorflow.keras.datasets import cifar10\n",
        "(X_train, y_train), (X_test, y_test) = cifar10.load_data()"
      ],
      "metadata": {
        "colab": {
          "base_uri": "https://localhost:8080/"
        },
        "id": "BxmihOpE6UaS",
        "outputId": "76e39a9f-47c3-43b5-e06a-f726a3c26db0"
      },
      "execution_count": 2,
      "outputs": [
        {
          "output_type": "stream",
          "name": "stdout",
          "text": [
            "Downloading data from https://www.cs.toronto.edu/~kriz/cifar-10-python.tar.gz\n",
            "170498071/170498071 [==============================] - 7s 0us/step\n"
          ]
        }
      ]
    },
    {
      "cell_type": "code",
      "source": [
        "# X data: scaling\n",
        "X_train = X_train / 255.\n",
        "X_test = X_test / 255."
      ],
      "metadata": {
        "id": "qv7Ag63H6d_5"
      },
      "execution_count": 3,
      "outputs": []
    },
    {
      "cell_type": "code",
      "source": [
        "# y data: one hot encoding\n",
        "from tensorflow.keras.utils import to_categorical\n",
        "Y_train = to_categorical(y_train)\n",
        "Y_test = to_categorical(y_test)"
      ],
      "metadata": {
        "id": "Sc5BYy3I68Qy"
      },
      "execution_count": 4,
      "outputs": []
    },
    {
      "cell_type": "markdown",
      "source": [
        "- 모델 정의/설정/학습/평가"
      ],
      "metadata": {
        "id": "Afoco-Rp7HmY"
      }
    },
    {
      "cell_type": "code",
      "source": [
        "from tensorflow.keras.models import Sequential, load_model\n",
        "from tensorflow.keras.layers import Dense, Conv2D, MaxPooling2D, Flatten, Dropout\n",
        "from tensorflow.keras.callbacks import ModelCheckpoint, EarlyStopping   # 데이터가 크고 많을때 사용"
      ],
      "metadata": {
        "id": "yvFH0W4d7AgZ"
      },
      "execution_count": 5,
      "outputs": []
    },
    {
      "cell_type": "code",
      "source": [
        "model = Sequential([\n",
        "    Conv2D(32, (3,3), input_shape=X_train.shape[1:], padding='same', activation='relu'),\n",
        "    Conv2D(32, (3,3), activation='relu'),\n",
        "    MaxPooling2D(),\n",
        "    Dropout(0.25),\n",
        "    Conv2D(64, (3,3), padding='same', activation='relu'),\n",
        "    Conv2D(64, (3,3), activation='relu'),\n",
        "    MaxPooling2D(),\n",
        "    Dropout(0.25),\n",
        "    Flatten(),\n",
        "    Dense(512, activation='relu'),\n",
        "    Dropout(0.5),\n",
        "    Dense(10, activation='softmax')\n",
        "])\n",
        "model.summary()"
      ],
      "metadata": {
        "colab": {
          "base_uri": "https://localhost:8080/"
        },
        "id": "o6a1oFXg7JAI",
        "outputId": "c8b12292-022c-41da-b7c5-41605e62cdf8"
      },
      "execution_count": 6,
      "outputs": [
        {
          "output_type": "stream",
          "name": "stdout",
          "text": [
            "Model: \"sequential\"\n",
            "_________________________________________________________________\n",
            " Layer (type)                Output Shape              Param #   \n",
            "=================================================================\n",
            " conv2d (Conv2D)             (None, 32, 32, 32)        896       \n",
            "                                                                 \n",
            " conv2d_1 (Conv2D)           (None, 30, 30, 32)        9248      \n",
            "                                                                 \n",
            " max_pooling2d (MaxPooling2  (None, 15, 15, 32)        0         \n",
            " D)                                                              \n",
            "                                                                 \n",
            " dropout (Dropout)           (None, 15, 15, 32)        0         \n",
            "                                                                 \n",
            " conv2d_2 (Conv2D)           (None, 15, 15, 64)        18496     \n",
            "                                                                 \n",
            " conv2d_3 (Conv2D)           (None, 13, 13, 64)        36928     \n",
            "                                                                 \n",
            " max_pooling2d_1 (MaxPoolin  (None, 6, 6, 64)          0         \n",
            " g2D)                                                            \n",
            "                                                                 \n",
            " dropout_1 (Dropout)         (None, 6, 6, 64)          0         \n",
            "                                                                 \n",
            " flatten (Flatten)           (None, 2304)              0         \n",
            "                                                                 \n",
            " dense (Dense)               (None, 512)               1180160   \n",
            "                                                                 \n",
            " dropout_2 (Dropout)         (None, 512)               0         \n",
            "                                                                 \n",
            " dense_1 (Dense)             (None, 10)                5130      \n",
            "                                                                 \n",
            "=================================================================\n",
            "Total params: 1250858 (4.77 MB)\n",
            "Trainable params: 1250858 (4.77 MB)\n",
            "Non-trainable params: 0 (0.00 Byte)\n",
            "_________________________________________________________________\n"
          ]
        }
      ]
    },
    {
      "cell_type": "code",
      "source": [
        "model.compile('adam', 'categorical_crossentropy', ['accuracy'])\n",
        "\n",
        "model_path = 'best-cifar10-v2.h5'     # 학습된 데이터 저장\n",
        "mc = ModelCheckpoint(model_path, save_best_only=True, verbose=1)\n",
        "es = EarlyStopping(patience=5)"
      ],
      "metadata": {
        "id": "AExAWZxS7L-4"
      },
      "execution_count": 7,
      "outputs": []
    },
    {
      "cell_type": "markdown",
      "source": [
        "- 데이터 부풀리기"
      ],
      "metadata": {
        "id": "PK47wFDF7kjE"
      }
    },
    {
      "cell_type": "code",
      "source": [
        "from sklearn.model_selection import train_test_split\n",
        "X_train, X_valid, Y_train, Y_valid = train_test_split(\n",
        "    X_train, Y_train, stratify=Y_train, test_size=0.2, random_state=seed\n",
        ")"
      ],
      "metadata": {
        "id": "0PvBG7lA7Se5"
      },
      "execution_count": 8,
      "outputs": []
    },
    {
      "cell_type": "code",
      "source": [
        "from tensorflow.keras.preprocessing.image import ImageDataGenerator\n",
        "\n",
        "train_datagen = ImageDataGenerator(\n",
        "    rotation_range=10,           # randomly rotate images in the range (deg 0 to 10)\n",
        "    width_shift_range=0.1,       # randomly shift images horizontally\n",
        "    height_shift_range=0.1,      # randomly shift images vertically\n",
        "    shear_range=0.1,             # set range for random shear(도형의 기울기)\n",
        "    zoom_range=[0.8, 1.2],       # set range for random zoom(0.8 ~ 1.2배 크기로 임의로 확대/축소)\n",
        "    horizontal_flip=True,        # randomly flip images (수평으로)\n",
        "    vertical_flip=False,         # randomly flip images (수직으로)\n",
        "    fill_mode='nearest'          # set mode for filling points outside the input boundaries\n",
        ")"
      ],
      "metadata": {
        "id": "OttY596Z75zh"
      },
      "execution_count": 9,
      "outputs": []
    },
    {
      "cell_type": "code",
      "source": [
        "train_datagen.fit(X_train)"
      ],
      "metadata": {
        "id": "6FZGftuv8QF5"
      },
      "execution_count": 10,
      "outputs": []
    },
    {
      "cell_type": "markdown",
      "source": [
        "- 데이터 부풀리기를 한 결과로 학습"
      ],
      "metadata": {
        "id": "TtdSCsq98s-H"
      }
    },
    {
      "cell_type": "code",
      "source": [
        "hist = model.fit(\n",
        "    train_datagen.flow(X_train, Y_train, batch_size=32),\n",
        "    validation_data=(X_valid, Y_valid),\n",
        "    epochs=100, verbose=0,\n",
        "    callbacks=[mc,es]\n",
        ")"
      ],
      "metadata": {
        "colab": {
          "base_uri": "https://localhost:8080/"
        },
        "id": "ofvBlNgY8sXx",
        "outputId": "c2da8ec6-33ee-49a7-a715-bcf65ff65e3f"
      },
      "execution_count": 11,
      "outputs": [
        {
          "output_type": "stream",
          "name": "stdout",
          "text": [
            "\n",
            "Epoch 1: val_loss improved from inf to 1.35741, saving model to best-cifar10-v2.h5\n"
          ]
        },
        {
          "output_type": "stream",
          "name": "stderr",
          "text": [
            "/usr/local/lib/python3.10/dist-packages/keras/src/engine/training.py:3079: UserWarning: You are saving your model as an HDF5 file via `model.save()`. This file format is considered legacy. We recommend using instead the native Keras format, e.g. `model.save('my_model.keras')`.\n",
            "  saving_api.save_model(\n"
          ]
        },
        {
          "output_type": "stream",
          "name": "stdout",
          "text": [
            "\n",
            "Epoch 2: val_loss improved from 1.35741 to 1.16998, saving model to best-cifar10-v2.h5\n",
            "\n",
            "Epoch 3: val_loss improved from 1.16998 to 1.06664, saving model to best-cifar10-v2.h5\n",
            "\n",
            "Epoch 4: val_loss improved from 1.06664 to 1.02624, saving model to best-cifar10-v2.h5\n",
            "\n",
            "Epoch 5: val_loss improved from 1.02624 to 0.98914, saving model to best-cifar10-v2.h5\n",
            "\n",
            "Epoch 6: val_loss improved from 0.98914 to 0.88119, saving model to best-cifar10-v2.h5\n",
            "\n",
            "Epoch 7: val_loss improved from 0.88119 to 0.85985, saving model to best-cifar10-v2.h5\n",
            "\n",
            "Epoch 8: val_loss did not improve from 0.85985\n",
            "\n",
            "Epoch 9: val_loss improved from 0.85985 to 0.82061, saving model to best-cifar10-v2.h5\n",
            "\n",
            "Epoch 10: val_loss did not improve from 0.82061\n",
            "\n",
            "Epoch 11: val_loss improved from 0.82061 to 0.79647, saving model to best-cifar10-v2.h5\n",
            "\n",
            "Epoch 12: val_loss did not improve from 0.79647\n",
            "\n",
            "Epoch 13: val_loss did not improve from 0.79647\n",
            "\n",
            "Epoch 14: val_loss did not improve from 0.79647\n",
            "\n",
            "Epoch 15: val_loss did not improve from 0.79647\n",
            "\n",
            "Epoch 16: val_loss improved from 0.79647 to 0.73283, saving model to best-cifar10-v2.h5\n",
            "\n",
            "Epoch 17: val_loss did not improve from 0.73283\n",
            "\n",
            "Epoch 18: val_loss did not improve from 0.73283\n",
            "\n",
            "Epoch 19: val_loss improved from 0.73283 to 0.71705, saving model to best-cifar10-v2.h5\n",
            "\n",
            "Epoch 20: val_loss did not improve from 0.71705\n",
            "\n",
            "Epoch 21: val_loss did not improve from 0.71705\n",
            "\n",
            "Epoch 22: val_loss did not improve from 0.71705\n",
            "\n",
            "Epoch 23: val_loss did not improve from 0.71705\n",
            "\n",
            "Epoch 24: val_loss did not improve from 0.71705\n"
          ]
        }
      ]
    },
    {
      "cell_type": "code",
      "source": [
        "best_model = load_model(model_path)\n",
        "best_model.evaluate(X_test, Y_test)"
      ],
      "metadata": {
        "colab": {
          "base_uri": "https://localhost:8080/"
        },
        "id": "UmpjvePg9NOm",
        "outputId": "a877d757-0dcb-4607-fb7e-3645204969d2"
      },
      "execution_count": 12,
      "outputs": [
        {
          "output_type": "stream",
          "name": "stdout",
          "text": [
            "313/313 [==============================] - 1s 4ms/step - loss: 0.7333 - accuracy: 0.7471\n"
          ]
        },
        {
          "output_type": "execute_result",
          "data": {
            "text/plain": [
              "[0.7333213090896606, 0.7470999956130981]"
            ]
          },
          "metadata": {},
          "execution_count": 12
        }
      ]
    }
  ]
}