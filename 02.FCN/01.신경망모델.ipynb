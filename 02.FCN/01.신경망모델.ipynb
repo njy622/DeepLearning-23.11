{
 "cells": [
  {
   "cell_type": "markdown",
   "metadata": {},
   "source": [
    "## 신경망 모델\n",
    "#### - 이진 분류 : 유방암 예측 사례"
   ]
  },
  {
   "cell_type": "code",
   "execution_count": 1,
   "metadata": {},
   "outputs": [],
   "source": [
    "import numpy as np\n",
    "import pandas as pd\n",
    "import matplotlib.pyplot as plt"
   ]
  },
  {
   "cell_type": "markdown",
   "metadata": {},
   "source": [
    "- 데이터 준비"
   ]
  },
  {
   "cell_type": "code",
   "execution_count": 4,
   "metadata": {},
   "outputs": [
    {
     "data": {
      "text/plain": [
       "(569, 30)"
      ]
     },
     "execution_count": 4,
     "metadata": {},
     "output_type": "execute_result"
    }
   ],
   "source": [
    "from sklearn.datasets import load_breast_cancer\n",
    "from sklearn.preprocessing import StandardScaler\n",
    "cancer = load_breast_cancer()\n",
    "cancer.data.shape"
   ]
  },
  {
   "cell_type": "code",
   "execution_count": 5,
   "metadata": {},
   "outputs": [],
   "source": [
    "cancer_std = StandardScaler().fit_transform(cancer.data)"
   ]
  },
  {
   "cell_type": "markdown",
   "metadata": {},
   "source": [
    "#### 1. 데이터를 정규/표준화 하지 않은 경우"
   ]
  },
  {
   "cell_type": "code",
   "execution_count": 6,
   "metadata": {},
   "outputs": [],
   "source": [
    "from sklearn.model_selection import train_test_split\n",
    "X_train, X_test, y_train, y_test = train_test_split(\n",
    "    cancer.data, cancer.target, stratify=cancer.target, test_size=0.2, random_state=2023\n",
    ")"
   ]
  },
  {
   "cell_type": "markdown",
   "metadata": {},
   "source": [
    "- 모델 정의"
   ]
  },
  {
   "cell_type": "code",
   "execution_count": 8,
   "metadata": {},
   "outputs": [],
   "source": [
    "from tensorflow.keras.models import Sequential\n",
    "from tensorflow.keras.layers import Dense       # Fully Connected Network\n",
    "\n",
    "# 코렙에서는 빨간 밑줄안뜨는데, vscode에서는 빨간줄뜨지만 실행은 잘됨"
   ]
  },
  {
   "cell_type": "code",
   "execution_count": 13,
   "metadata": {},
   "outputs": [
    {
     "name": "stdout",
     "output_type": "stream",
     "text": [
      "Model: \"sequential\"\n",
      "_________________________________________________________________\n",
      " Layer (type)                Output Shape              Param #   \n",
      "=================================================================\n",
      " dense_2 (Dense)             (None, 100)               3100      \n",
      "                                                                 \n",
      " dense_3 (Dense)             (None, 24)                2424      \n",
      "                                                                 \n",
      " dense_4 (Dense)             (None, 1)                 25        \n",
      "                                                                 \n",
      "=================================================================\n",
      "Total params: 5549 (21.68 KB)\n",
      "Trainable params: 5549 (21.68 KB)\n",
      "Non-trainable params: 0 (0.00 Byte)\n",
      "_________________________________________________________________\n"
     ]
    }
   ],
   "source": [
    "model =Sequential([                 #input_dim=30: 30차원으로 두겠다(cancer 데이터가 30차원이라서)\n",
    "    Dense(100, input_dim=30, activation='relu'),    # 입력 받아들이는 레이어(동시에 몇개를 받아들일것인지)\n",
    "    Dense(24, activation='relu'),  \n",
    "    Dense(1, activation='sigmoid')           \n",
    "])\n",
    "model.summary()"
   ]
  },
  {
   "cell_type": "markdown",
   "metadata": {},
   "source": [
    "- 모델 설정(컴파일)"
   ]
  },
  {
   "cell_type": "code",
   "execution_count": 15,
   "metadata": {},
   "outputs": [],
   "source": [
    "model.compile(\n",
    "    optimizer='adam',\n",
    "    loss='binary_crossentropy',      # 이진법?\n",
    "    metrics=['accuracy']\n",
    ")\n",
    "# 3가지를 설정해줌"
   ]
  },
  {
   "cell_type": "markdown",
   "metadata": {},
   "source": [
    "- 모델 학습"
   ]
  },
  {
   "cell_type": "code",
   "execution_count": 16,
   "metadata": {},
   "outputs": [
    {
     "name": "stdout",
     "output_type": "stream",
     "text": [
      "Epoch 1/100\n",
      "4/4 [==============================] - 1s 86ms/step - loss: 11.3249 - accuracy: 0.4643 - val_loss: 8.4308 - val_accuracy: 0.4066\n",
      "Epoch 2/100\n",
      "4/4 [==============================] - 0s 13ms/step - loss: 6.7156 - accuracy: 0.3571 - val_loss: 1.1050 - val_accuracy: 0.6484\n",
      "Epoch 3/100\n",
      "4/4 [==============================] - 0s 15ms/step - loss: 2.3463 - accuracy: 0.6786 - val_loss: 2.0210 - val_accuracy: 0.6703\n",
      "Epoch 4/100\n",
      "4/4 [==============================] - 0s 22ms/step - loss: 1.2376 - accuracy: 0.6374 - val_loss: 2.1897 - val_accuracy: 0.4286\n",
      "Epoch 5/100\n",
      "4/4 [==============================] - 0s 12ms/step - loss: 1.3558 - accuracy: 0.5302 - val_loss: 0.4173 - val_accuracy: 0.8462\n",
      "Epoch 6/100\n",
      "4/4 [==============================] - 0s 16ms/step - loss: 0.9354 - accuracy: 0.8214 - val_loss: 0.9319 - val_accuracy: 0.7802\n",
      "Epoch 7/100\n",
      "4/4 [==============================] - 0s 13ms/step - loss: 0.7409 - accuracy: 0.8352 - val_loss: 0.5776 - val_accuracy: 0.7692\n",
      "Epoch 8/100\n",
      "4/4 [==============================] - 0s 14ms/step - loss: 0.7423 - accuracy: 0.7225 - val_loss: 0.4467 - val_accuracy: 0.8462\n",
      "Epoch 9/100\n",
      "4/4 [==============================] - 0s 12ms/step - loss: 0.4297 - accuracy: 0.8626 - val_loss: 0.4177 - val_accuracy: 0.8681\n",
      "Epoch 10/100\n",
      "4/4 [==============================] - 0s 27ms/step - loss: 0.5593 - accuracy: 0.8709 - val_loss: 0.2538 - val_accuracy: 0.9011\n",
      "Epoch 11/100\n",
      "4/4 [==============================] - 0s 13ms/step - loss: 0.3714 - accuracy: 0.8626 - val_loss: 0.5550 - val_accuracy: 0.7692\n",
      "Epoch 12/100\n",
      "4/4 [==============================] - 0s 12ms/step - loss: 0.4229 - accuracy: 0.8599 - val_loss: 0.2553 - val_accuracy: 0.8901\n",
      "Epoch 13/100\n",
      "4/4 [==============================] - 0s 13ms/step - loss: 0.3637 - accuracy: 0.8901 - val_loss: 0.2531 - val_accuracy: 0.8901\n",
      "Epoch 14/100\n",
      "4/4 [==============================] - 0s 12ms/step - loss: 0.3261 - accuracy: 0.9038 - val_loss: 0.3631 - val_accuracy: 0.8571\n",
      "Epoch 15/100\n",
      "4/4 [==============================] - 0s 14ms/step - loss: 0.3238 - accuracy: 0.8929 - val_loss: 0.2802 - val_accuracy: 0.8791\n",
      "Epoch 16/100\n",
      "4/4 [==============================] - 0s 17ms/step - loss: 0.2902 - accuracy: 0.9011 - val_loss: 0.2521 - val_accuracy: 0.8791\n",
      "Epoch 17/100\n",
      "4/4 [==============================] - 0s 12ms/step - loss: 0.3014 - accuracy: 0.9038 - val_loss: 0.2704 - val_accuracy: 0.8791\n",
      "Epoch 18/100\n",
      "4/4 [==============================] - 0s 13ms/step - loss: 0.2964 - accuracy: 0.8956 - val_loss: 0.3234 - val_accuracy: 0.8791\n",
      "Epoch 19/100\n",
      "4/4 [==============================] - 0s 13ms/step - loss: 0.2897 - accuracy: 0.8901 - val_loss: 0.2467 - val_accuracy: 0.8791\n",
      "Epoch 20/100\n",
      "4/4 [==============================] - 0s 13ms/step - loss: 0.2866 - accuracy: 0.8984 - val_loss: 0.2697 - val_accuracy: 0.8681\n",
      "Epoch 21/100\n",
      "4/4 [==============================] - 0s 12ms/step - loss: 0.2768 - accuracy: 0.8984 - val_loss: 0.2954 - val_accuracy: 0.8791\n",
      "Epoch 22/100\n",
      "4/4 [==============================] - 0s 13ms/step - loss: 0.2722 - accuracy: 0.9038 - val_loss: 0.2420 - val_accuracy: 0.8901\n",
      "Epoch 23/100\n",
      "4/4 [==============================] - 0s 12ms/step - loss: 0.2878 - accuracy: 0.8956 - val_loss: 0.2335 - val_accuracy: 0.8791\n",
      "Epoch 24/100\n",
      "4/4 [==============================] - 0s 12ms/step - loss: 0.2636 - accuracy: 0.9011 - val_loss: 0.2885 - val_accuracy: 0.8791\n",
      "Epoch 25/100\n",
      "4/4 [==============================] - 0s 12ms/step - loss: 0.2791 - accuracy: 0.9011 - val_loss: 0.2424 - val_accuracy: 0.8901\n",
      "Epoch 26/100\n",
      "4/4 [==============================] - 0s 12ms/step - loss: 0.2608 - accuracy: 0.9038 - val_loss: 0.2369 - val_accuracy: 0.8901\n",
      "Epoch 27/100\n",
      "4/4 [==============================] - 0s 12ms/step - loss: 0.2557 - accuracy: 0.9093 - val_loss: 0.2457 - val_accuracy: 0.9011\n",
      "Epoch 28/100\n",
      "4/4 [==============================] - 0s 13ms/step - loss: 0.2622 - accuracy: 0.9121 - val_loss: 0.2328 - val_accuracy: 0.9121\n",
      "Epoch 29/100\n",
      "4/4 [==============================] - 0s 13ms/step - loss: 0.2728 - accuracy: 0.9011 - val_loss: 0.2110 - val_accuracy: 0.9011\n",
      "Epoch 30/100\n",
      "4/4 [==============================] - 0s 13ms/step - loss: 0.2413 - accuracy: 0.9066 - val_loss: 0.2947 - val_accuracy: 0.8681\n",
      "Epoch 31/100\n",
      "4/4 [==============================] - 0s 12ms/step - loss: 0.2761 - accuracy: 0.9066 - val_loss: 0.2095 - val_accuracy: 0.9011\n",
      "Epoch 32/100\n",
      "4/4 [==============================] - 0s 12ms/step - loss: 0.2480 - accuracy: 0.9066 - val_loss: 0.2181 - val_accuracy: 0.9121\n",
      "Epoch 33/100\n",
      "4/4 [==============================] - 0s 13ms/step - loss: 0.2418 - accuracy: 0.9066 - val_loss: 0.2454 - val_accuracy: 0.8791\n",
      "Epoch 34/100\n",
      "4/4 [==============================] - 0s 12ms/step - loss: 0.2464 - accuracy: 0.9093 - val_loss: 0.2018 - val_accuracy: 0.9011\n",
      "Epoch 35/100\n",
      "4/4 [==============================] - 0s 12ms/step - loss: 0.2411 - accuracy: 0.9121 - val_loss: 0.2207 - val_accuracy: 0.9121\n",
      "Epoch 36/100\n",
      "4/4 [==============================] - 0s 13ms/step - loss: 0.2375 - accuracy: 0.9148 - val_loss: 0.2067 - val_accuracy: 0.9231\n",
      "Epoch 37/100\n",
      "4/4 [==============================] - 0s 29ms/step - loss: 0.2341 - accuracy: 0.9148 - val_loss: 0.1987 - val_accuracy: 0.9341\n",
      "Epoch 38/100\n",
      "4/4 [==============================] - 0s 16ms/step - loss: 0.2536 - accuracy: 0.9121 - val_loss: 0.2025 - val_accuracy: 0.9121\n",
      "Epoch 39/100\n",
      "4/4 [==============================] - 0s 12ms/step - loss: 0.2293 - accuracy: 0.9148 - val_loss: 0.2502 - val_accuracy: 0.8901\n",
      "Epoch 40/100\n",
      "4/4 [==============================] - 0s 14ms/step - loss: 0.2425 - accuracy: 0.9038 - val_loss: 0.1936 - val_accuracy: 0.9341\n",
      "Epoch 41/100\n",
      "4/4 [==============================] - 0s 12ms/step - loss: 0.2321 - accuracy: 0.9176 - val_loss: 0.2073 - val_accuracy: 0.9231\n",
      "Epoch 42/100\n",
      "4/4 [==============================] - 0s 13ms/step - loss: 0.2239 - accuracy: 0.9203 - val_loss: 0.1877 - val_accuracy: 0.9341\n",
      "Epoch 43/100\n",
      "4/4 [==============================] - 0s 12ms/step - loss: 0.2233 - accuracy: 0.9176 - val_loss: 0.2051 - val_accuracy: 0.9121\n",
      "Epoch 44/100\n",
      "4/4 [==============================] - 0s 11ms/step - loss: 0.2270 - accuracy: 0.9176 - val_loss: 0.1840 - val_accuracy: 0.9341\n",
      "Epoch 45/100\n",
      "4/4 [==============================] - 0s 13ms/step - loss: 0.2497 - accuracy: 0.9038 - val_loss: 0.1887 - val_accuracy: 0.9341\n",
      "Epoch 46/100\n",
      "4/4 [==============================] - 0s 12ms/step - loss: 0.2327 - accuracy: 0.9203 - val_loss: 0.2082 - val_accuracy: 0.9231\n",
      "Epoch 47/100\n",
      "4/4 [==============================] - 0s 13ms/step - loss: 0.2344 - accuracy: 0.9148 - val_loss: 0.1854 - val_accuracy: 0.9231\n",
      "Epoch 48/100\n",
      "4/4 [==============================] - 0s 11ms/step - loss: 0.2178 - accuracy: 0.9148 - val_loss: 0.2324 - val_accuracy: 0.8901\n",
      "Epoch 49/100\n",
      "4/4 [==============================] - 0s 14ms/step - loss: 0.2251 - accuracy: 0.9176 - val_loss: 0.1792 - val_accuracy: 0.9231\n",
      "Epoch 50/100\n",
      "4/4 [==============================] - 0s 13ms/step - loss: 0.2277 - accuracy: 0.9176 - val_loss: 0.1981 - val_accuracy: 0.9341\n",
      "Epoch 51/100\n",
      "4/4 [==============================] - 0s 11ms/step - loss: 0.2276 - accuracy: 0.9121 - val_loss: 0.1874 - val_accuracy: 0.9451\n",
      "Epoch 52/100\n",
      "4/4 [==============================] - 0s 13ms/step - loss: 0.2155 - accuracy: 0.9258 - val_loss: 0.1781 - val_accuracy: 0.9341\n",
      "Epoch 53/100\n",
      "4/4 [==============================] - 0s 11ms/step - loss: 0.2129 - accuracy: 0.9176 - val_loss: 0.2245 - val_accuracy: 0.9011\n",
      "Epoch 54/100\n",
      "4/4 [==============================] - 0s 15ms/step - loss: 0.2083 - accuracy: 0.9203 - val_loss: 0.1776 - val_accuracy: 0.9341\n",
      "Epoch 55/100\n",
      "4/4 [==============================] - 0s 16ms/step - loss: 0.2175 - accuracy: 0.9203 - val_loss: 0.2047 - val_accuracy: 0.9341\n",
      "Epoch 56/100\n",
      "4/4 [==============================] - 0s 13ms/step - loss: 0.2343 - accuracy: 0.9203 - val_loss: 0.1745 - val_accuracy: 0.9341\n",
      "Epoch 57/100\n",
      "4/4 [==============================] - 0s 12ms/step - loss: 0.2163 - accuracy: 0.9148 - val_loss: 0.1716 - val_accuracy: 0.9341\n",
      "Epoch 58/100\n",
      "4/4 [==============================] - 0s 12ms/step - loss: 0.1981 - accuracy: 0.9286 - val_loss: 0.1896 - val_accuracy: 0.9341\n",
      "Epoch 59/100\n",
      "4/4 [==============================] - 0s 17ms/step - loss: 0.2068 - accuracy: 0.9203 - val_loss: 0.1676 - val_accuracy: 0.9341\n",
      "Epoch 60/100\n",
      "4/4 [==============================] - 0s 21ms/step - loss: 0.1977 - accuracy: 0.9231 - val_loss: 0.1700 - val_accuracy: 0.9341\n",
      "Epoch 61/100\n",
      "4/4 [==============================] - 0s 15ms/step - loss: 0.2069 - accuracy: 0.9148 - val_loss: 0.1676 - val_accuracy: 0.9341\n",
      "Epoch 62/100\n",
      "4/4 [==============================] - 0s 11ms/step - loss: 0.2063 - accuracy: 0.9203 - val_loss: 0.1693 - val_accuracy: 0.9341\n",
      "Epoch 63/100\n",
      "4/4 [==============================] - 0s 10ms/step - loss: 0.1928 - accuracy: 0.9258 - val_loss: 0.1632 - val_accuracy: 0.9341\n",
      "Epoch 64/100\n",
      "4/4 [==============================] - 0s 12ms/step - loss: 0.1979 - accuracy: 0.9203 - val_loss: 0.1747 - val_accuracy: 0.9341\n",
      "Epoch 65/100\n",
      "4/4 [==============================] - 0s 12ms/step - loss: 0.2083 - accuracy: 0.9176 - val_loss: 0.1625 - val_accuracy: 0.9341\n",
      "Epoch 66/100\n",
      "4/4 [==============================] - 0s 11ms/step - loss: 0.1950 - accuracy: 0.9258 - val_loss: 0.1750 - val_accuracy: 0.9341\n",
      "Epoch 67/100\n",
      "4/4 [==============================] - 0s 11ms/step - loss: 0.2177 - accuracy: 0.9203 - val_loss: 0.1604 - val_accuracy: 0.9341\n",
      "Epoch 68/100\n",
      "4/4 [==============================] - 0s 12ms/step - loss: 0.1921 - accuracy: 0.9231 - val_loss: 0.1759 - val_accuracy: 0.9341\n",
      "Epoch 69/100\n",
      "4/4 [==============================] - 0s 12ms/step - loss: 0.1861 - accuracy: 0.9231 - val_loss: 0.1641 - val_accuracy: 0.9451\n",
      "Epoch 70/100\n",
      "4/4 [==============================] - 0s 11ms/step - loss: 0.1860 - accuracy: 0.9258 - val_loss: 0.1731 - val_accuracy: 0.9231\n",
      "Epoch 71/100\n",
      "4/4 [==============================] - 0s 11ms/step - loss: 0.1814 - accuracy: 0.9231 - val_loss: 0.1661 - val_accuracy: 0.9231\n",
      "Epoch 72/100\n",
      "4/4 [==============================] - 0s 12ms/step - loss: 0.1798 - accuracy: 0.9313 - val_loss: 0.1655 - val_accuracy: 0.9231\n",
      "Epoch 73/100\n",
      "4/4 [==============================] - 0s 11ms/step - loss: 0.1740 - accuracy: 0.9286 - val_loss: 0.1614 - val_accuracy: 0.9341\n",
      "Epoch 74/100\n",
      "4/4 [==============================] - 0s 12ms/step - loss: 0.1798 - accuracy: 0.9203 - val_loss: 0.1861 - val_accuracy: 0.9341\n",
      "Epoch 75/100\n",
      "4/4 [==============================] - 0s 15ms/step - loss: 0.1883 - accuracy: 0.9203 - val_loss: 0.1801 - val_accuracy: 0.9341\n",
      "Epoch 76/100\n",
      "4/4 [==============================] - 0s 13ms/step - loss: 0.2001 - accuracy: 0.9231 - val_loss: 0.1672 - val_accuracy: 0.9231\n",
      "Epoch 77/100\n",
      "4/4 [==============================] - 0s 13ms/step - loss: 0.1798 - accuracy: 0.9258 - val_loss: 0.1678 - val_accuracy: 0.9341\n",
      "Epoch 78/100\n",
      "4/4 [==============================] - 0s 11ms/step - loss: 0.1871 - accuracy: 0.9258 - val_loss: 0.1640 - val_accuracy: 0.9231\n",
      "Epoch 79/100\n",
      "4/4 [==============================] - 0s 11ms/step - loss: 0.1899 - accuracy: 0.9258 - val_loss: 0.1626 - val_accuracy: 0.9341\n",
      "Epoch 80/100\n",
      "4/4 [==============================] - 0s 11ms/step - loss: 0.1871 - accuracy: 0.9258 - val_loss: 0.1729 - val_accuracy: 0.9341\n",
      "Epoch 81/100\n",
      "4/4 [==============================] - 0s 12ms/step - loss: 0.1802 - accuracy: 0.9286 - val_loss: 0.1583 - val_accuracy: 0.9341\n",
      "Epoch 82/100\n",
      "4/4 [==============================] - 0s 12ms/step - loss: 0.1837 - accuracy: 0.9286 - val_loss: 0.1617 - val_accuracy: 0.9231\n",
      "Epoch 83/100\n",
      "4/4 [==============================] - 0s 12ms/step - loss: 0.1682 - accuracy: 0.9313 - val_loss: 0.1568 - val_accuracy: 0.9341\n",
      "Epoch 84/100\n",
      "4/4 [==============================] - 0s 12ms/step - loss: 0.1630 - accuracy: 0.9286 - val_loss: 0.1733 - val_accuracy: 0.9341\n",
      "Epoch 85/100\n",
      "4/4 [==============================] - 0s 12ms/step - loss: 0.1679 - accuracy: 0.9313 - val_loss: 0.1556 - val_accuracy: 0.9341\n",
      "Epoch 86/100\n",
      "4/4 [==============================] - 0s 13ms/step - loss: 0.1670 - accuracy: 0.9231 - val_loss: 0.1542 - val_accuracy: 0.9341\n",
      "Epoch 87/100\n",
      "4/4 [==============================] - 0s 27ms/step - loss: 0.1620 - accuracy: 0.9313 - val_loss: 0.1612 - val_accuracy: 0.9231\n",
      "Epoch 88/100\n",
      "4/4 [==============================] - 0s 12ms/step - loss: 0.1624 - accuracy: 0.9313 - val_loss: 0.1527 - val_accuracy: 0.9341\n",
      "Epoch 89/100\n",
      "4/4 [==============================] - 0s 11ms/step - loss: 0.1676 - accuracy: 0.9313 - val_loss: 0.1640 - val_accuracy: 0.9231\n",
      "Epoch 90/100\n",
      "4/4 [==============================] - 0s 12ms/step - loss: 0.1648 - accuracy: 0.9341 - val_loss: 0.1548 - val_accuracy: 0.9341\n",
      "Epoch 91/100\n",
      "4/4 [==============================] - 0s 12ms/step - loss: 0.1717 - accuracy: 0.9341 - val_loss: 0.1617 - val_accuracy: 0.9341\n",
      "Epoch 92/100\n",
      "4/4 [==============================] - 0s 12ms/step - loss: 0.1655 - accuracy: 0.9341 - val_loss: 0.1647 - val_accuracy: 0.9231\n",
      "Epoch 93/100\n",
      "4/4 [==============================] - 0s 12ms/step - loss: 0.1608 - accuracy: 0.9286 - val_loss: 0.1528 - val_accuracy: 0.9341\n",
      "Epoch 94/100\n",
      "4/4 [==============================] - 0s 13ms/step - loss: 0.1575 - accuracy: 0.9341 - val_loss: 0.1543 - val_accuracy: 0.9341\n",
      "Epoch 95/100\n",
      "4/4 [==============================] - 0s 13ms/step - loss: 0.1672 - accuracy: 0.9341 - val_loss: 0.1683 - val_accuracy: 0.9341\n",
      "Epoch 96/100\n",
      "4/4 [==============================] - 0s 11ms/step - loss: 0.1678 - accuracy: 0.9396 - val_loss: 0.1582 - val_accuracy: 0.9341\n",
      "Epoch 97/100\n",
      "4/4 [==============================] - 0s 12ms/step - loss: 0.1630 - accuracy: 0.9396 - val_loss: 0.1719 - val_accuracy: 0.9341\n",
      "Epoch 98/100\n",
      "4/4 [==============================] - 0s 11ms/step - loss: 0.1579 - accuracy: 0.9368 - val_loss: 0.1603 - val_accuracy: 0.9341\n",
      "Epoch 99/100\n",
      "4/4 [==============================] - 0s 13ms/step - loss: 0.1595 - accuracy: 0.9341 - val_loss: 0.1944 - val_accuracy: 0.9231\n",
      "Epoch 100/100\n",
      "4/4 [==============================] - 0s 13ms/step - loss: 0.1666 - accuracy: 0.9341 - val_loss: 0.1835 - val_accuracy: 0.9341\n"
     ]
    }
   ],
   "source": [
    "history = model.fit(X_train, y_train,\n",
    "                    validation_split=0.2,       # 학습중 검증용\n",
    "                    epochs = 100,               # 반복 횟수\n",
    "                    batch_size=100)             # 동시에 몇개의 데이터를 메모리에 로드하는가"
   ]
  },
  {
   "cell_type": "markdown",
   "metadata": {},
   "source": [
    "- 모델 평가"
   ]
  },
  {
   "cell_type": "code",
   "execution_count": 17,
   "metadata": {},
   "outputs": [
    {
     "name": "stdout",
     "output_type": "stream",
     "text": [
      "4/4 [==============================] - 0s 3ms/step - loss: 0.1620 - accuracy: 0.9298\n"
     ]
    },
    {
     "data": {
      "text/plain": [
       "[0.16203026473522186, 0.9298245906829834]"
      ]
     },
     "execution_count": 17,
     "metadata": {},
     "output_type": "execute_result"
    }
   ],
   "source": [
    "model.evaluate(X_test, y_test)\n",
    "# accuracy: 0.9298 (정확도)"
   ]
  },
  {
   "cell_type": "markdown",
   "metadata": {},
   "source": [
    "- 훈련과정 시각화\n",
    "    - epoch에 따른 accuracy, val_loss의 변화"
   ]
  },
  {
   "cell_type": "code",
   "execution_count": 19,
   "metadata": {},
   "outputs": [],
   "source": [
    "y_acc = history.history['accuracy']\n",
    "y_vloss = history.history['val_loss']\n",
    "xs = np.arange(1, len(y_acc)+1)"
   ]
  },
  {
   "cell_type": "code",
   "execution_count": 20,
   "metadata": {},
   "outputs": [
    {
     "data": {
      "image/png": "[encoded data removed]",
      "text/plain": [
       "<Figure size 1200x600 with 1 Axes>"
      ]
     },
     "metadata": {},
     "output_type": "display_data"
    }
   ],
   "source": [
    "plt.figure(figsize=(12,6))\n",
    "plt.plot(xs, y_acc, label='train accuracy')\n",
    "plt.plot(xs, y_vloss, label='validation loss')\n",
    "plt.legend(), plt.grid()\n",
    "plt.ylim([0,1]), plt.xlabel('Epoch')\n",
    "plt.show()"
   ]
  },
  {
   "cell_type": "code",
   "execution_count": null,
   "metadata": {},
   "outputs": [],
   "source": []
  }
 ],
 "metadata": {
  "kernelspec": {
   "display_name": "base",
   "language": "python",
   "name": "python3"
  },
  "language_info": {
   "codemirror_mode": {
    "name": "ipython",
    "version": 3
   },
   "file_extension": ".py",
   "mimetype": "text/x-python",
   "name": "python",
   "nbconvert_exporter": "python",
   "pygments_lexer": "ipython3",
   "version": "3.11.4"
  }
 },
 "nbformat": 4,
 "nbformat_minor": 2
}
